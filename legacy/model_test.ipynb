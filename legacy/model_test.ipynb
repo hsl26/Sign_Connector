{
 "cells": [
  {
   "cell_type": "code",
   "execution_count": 14,
   "metadata": {},
   "outputs": [],
   "source": [
    "import json\n",
    "import torch\n",
    "import torch.nn as nn\n",
    "import torch.nn.functional as F\n",
    "from torch.nn.utils.rnn import pad_sequence, pack_padded_sequence, pad_packed_sequence\n",
    "from torch.utils.data import DataLoader, Dataset, random_split\n",
    "\n",
    "import torch.optim as optim\n",
    "\n",
    "import os\n",
    "import json\n",
    "from sklearn.preprocessing import LabelEncoder\n",
    "\n",
    "import numpy as np\n",
    "import math\n",
    "\n",
    "import tool as tl\n",
    "\n",
    "from sklearn.metrics import precision_score, recall_score, f1_score, confusion_matrix, accuracy_score\n",
    "import matplotlib.pyplot as plt\n"
   ]
  },
  {
   "cell_type": "code",
   "execution_count": 7,
   "metadata": {},
   "outputs": [],
   "source": [
    "model_path = 'model/final_model_1000_red.pth'\n",
    "\n",
    "\n",
    "input_dim, model_dim, num_heads, num_layers, num_classes, learning_rate = 70*3, 512, 8, 2, 501, 0.00001"
   ]
  },
  {
   "cell_type": "code",
   "execution_count": 8,
   "metadata": {},
   "outputs": [
    {
     "data": {
      "text/plain": [
       "MultiEncoderTransformerModel(\n",
       "  (face_input_fc): Linear(in_features=210, out_features=512, bias=True)\n",
       "  (face_positional_encoding): PositionalEncoding(\n",
       "    (dropout): Dropout(p=0.1, inplace=False)\n",
       "  )\n",
       "  (face_transformer_encoder): TransformerEncoder(\n",
       "    (layers): ModuleList(\n",
       "      (0-1): 2 x TransformerEncoderLayer(\n",
       "        (self_attn): MultiheadAttention(\n",
       "          (out_proj): NonDynamicallyQuantizableLinear(in_features=512, out_features=512, bias=True)\n",
       "        )\n",
       "        (linear1): Linear(in_features=512, out_features=2048, bias=True)\n",
       "        (dropout): Dropout(p=0.1, inplace=False)\n",
       "        (linear2): Linear(in_features=2048, out_features=512, bias=True)\n",
       "        (norm1): LayerNorm((512,), eps=1e-05, elementwise_affine=True)\n",
       "        (norm2): LayerNorm((512,), eps=1e-05, elementwise_affine=True)\n",
       "        (dropout1): Dropout(p=0.1, inplace=False)\n",
       "        (dropout2): Dropout(p=0.1, inplace=False)\n",
       "      )\n",
       "    )\n",
       "  )\n",
       "  (pose_input_fc): Linear(in_features=210, out_features=512, bias=True)\n",
       "  (pose_positional_encoding): PositionalEncoding(\n",
       "    (dropout): Dropout(p=0.1, inplace=False)\n",
       "  )\n",
       "  (pose_transformer_encoder): TransformerEncoder(\n",
       "    (layers): ModuleList(\n",
       "      (0-1): 2 x TransformerEncoderLayer(\n",
       "        (self_attn): MultiheadAttention(\n",
       "          (out_proj): NonDynamicallyQuantizableLinear(in_features=512, out_features=512, bias=True)\n",
       "        )\n",
       "        (linear1): Linear(in_features=512, out_features=2048, bias=True)\n",
       "        (dropout): Dropout(p=0.1, inplace=False)\n",
       "        (linear2): Linear(in_features=2048, out_features=512, bias=True)\n",
       "        (norm1): LayerNorm((512,), eps=1e-05, elementwise_affine=True)\n",
       "        (norm2): LayerNorm((512,), eps=1e-05, elementwise_affine=True)\n",
       "        (dropout1): Dropout(p=0.1, inplace=False)\n",
       "        (dropout2): Dropout(p=0.1, inplace=False)\n",
       "      )\n",
       "    )\n",
       "  )\n",
       "  (left_hand_input_fc): Linear(in_features=210, out_features=512, bias=True)\n",
       "  (left_hand_positional_encoding): PositionalEncoding(\n",
       "    (dropout): Dropout(p=0.1, inplace=False)\n",
       "  )\n",
       "  (left_hand_transformer_encoder): TransformerEncoder(\n",
       "    (layers): ModuleList(\n",
       "      (0-1): 2 x TransformerEncoderLayer(\n",
       "        (self_attn): MultiheadAttention(\n",
       "          (out_proj): NonDynamicallyQuantizableLinear(in_features=512, out_features=512, bias=True)\n",
       "        )\n",
       "        (linear1): Linear(in_features=512, out_features=2048, bias=True)\n",
       "        (dropout): Dropout(p=0.1, inplace=False)\n",
       "        (linear2): Linear(in_features=2048, out_features=512, bias=True)\n",
       "        (norm1): LayerNorm((512,), eps=1e-05, elementwise_affine=True)\n",
       "        (norm2): LayerNorm((512,), eps=1e-05, elementwise_affine=True)\n",
       "        (dropout1): Dropout(p=0.1, inplace=False)\n",
       "        (dropout2): Dropout(p=0.1, inplace=False)\n",
       "      )\n",
       "    )\n",
       "  )\n",
       "  (right_hand_input_fc): Linear(in_features=210, out_features=512, bias=True)\n",
       "  (right_hand_positional_encoding): PositionalEncoding(\n",
       "    (dropout): Dropout(p=0.1, inplace=False)\n",
       "  )\n",
       "  (right_hand_transformer_encoder): TransformerEncoder(\n",
       "    (layers): ModuleList(\n",
       "      (0-1): 2 x TransformerEncoderLayer(\n",
       "        (self_attn): MultiheadAttention(\n",
       "          (out_proj): NonDynamicallyQuantizableLinear(in_features=512, out_features=512, bias=True)\n",
       "        )\n",
       "        (linear1): Linear(in_features=512, out_features=2048, bias=True)\n",
       "        (dropout): Dropout(p=0.1, inplace=False)\n",
       "        (linear2): Linear(in_features=2048, out_features=512, bias=True)\n",
       "        (norm1): LayerNorm((512,), eps=1e-05, elementwise_affine=True)\n",
       "        (norm2): LayerNorm((512,), eps=1e-05, elementwise_affine=True)\n",
       "        (dropout1): Dropout(p=0.1, inplace=False)\n",
       "        (dropout2): Dropout(p=0.1, inplace=False)\n",
       "      )\n",
       "    )\n",
       "  )\n",
       "  (fc): Linear(in_features=2048, out_features=501, bias=True)\n",
       ")"
      ]
     },
     "execution_count": 8,
     "metadata": {},
     "output_type": "execute_result"
    }
   ],
   "source": [
    "checkpoint = torch.load(model_path)\n",
    "model = tl.MultiEncoderTransformerModel(input_dim, model_dim, num_heads, num_layers, num_classes)\n",
    "optimizer = optim.Adam(model.parameters(), lr=learning_rate)\n",
    "\n",
    "model.load_state_dict(checkpoint['model_state_dict'])\n",
    "optimizer.load_state_dict(checkpoint['optimizer_state_dict'])\n",
    "epoch = checkpoint['epoch']\n",
    "loss = checkpoint['loss']\n",
    "\n",
    "model.eval()  # Set the model to evaluation mode (or model.train() if resuming training)\n",
    "\n",
    "# GPU 사용 여부 설정\n",
    "device = torch.device(\"cuda\" if torch.cuda.is_available() else \"cpu\")\n",
    "model.to(device)"
   ]
  },
  {
   "cell_type": "code",
   "execution_count": 9,
   "metadata": {},
   "outputs": [],
   "source": [
    "batch_size = 64\n",
    "\n",
    "# 테스트 데이터셋과 데이터 로더\n",
    "test_encoded_labels, encoder = tl.get_word_list(10, 10)\n",
    "test_sequence_files = tl.get_sequence_files(10, 10)\n",
    "\n",
    "test_dataset = tl.SignLanguageDataset(test_sequence_files, test_encoded_labels)  # 실제 테스트 데이터셋 경로와 라벨 사용\n",
    "test_loader = tl.DataLoader(test_dataset, batch_size=batch_size, shuffle=False, collate_fn=tl.collate_fn)"
   ]
  },
  {
   "cell_type": "code",
   "execution_count": 11,
   "metadata": {},
   "outputs": [
    {
     "name": "stderr",
     "output_type": "stream",
     "text": [
      "/home/yohan-ban/anaconda3/envs/project/lib/python3.10/site-packages/torch/nn/modules/transformer.py:408: UserWarning: The PyTorch API of nested tensors is in prototype stage and will change in the near future. (Triggered internally at ../aten/src/ATen/NestedTensorImpl.cpp:178.)\n",
      "  output = torch._nested_tensor_from_mask(output, src_key_padding_mask.logical_not(), mask_check=False)\n"
     ]
    }
   ],
   "source": [
    "# 평가 지표 초기화\n",
    "all_labels = []\n",
    "all_predictions = []\n",
    "\n",
    "def create_padding_mask(sequences, pad_token=0):\n",
    "    return (sequences == pad_token)\n",
    "        \n",
    "\n",
    "with torch.no_grad():\n",
    "    for (face_sequence, pose_sequence, left_hand_sequence, right_hand_sequence), labels, lengths, idx in test_loader:\n",
    "        \n",
    "        face_sequence, pose_sequence, left_hand_sequence, right_hand_sequence = face_sequence.to(device), pose_sequence.to(device), left_hand_sequence.to(device), right_hand_sequence.to(device)\n",
    "        labels = labels.to(device)\n",
    "\n",
    "        # 입력 텐서 변환: [batch_size, 3, seq_len, num_joints] -> [batch_size, seq_len, 3 * num_joints]\n",
    "        batch_size, coord, seq_len, num_joints = face_sequence.size()\n",
    "        face_sequence = face_sequence.permute(0, 2, 3, 1).contiguous()  # [batch_size, seq_len, num_joints, coord]\n",
    "        face_sequence = face_sequence.view(batch_size, seq_len, -1)  # [batch_size, seq_len, num_joints * coord]\n",
    "        \n",
    "        batch_size, coord, seq_len, num_joints = pose_sequence.size()\n",
    "        pose_sequence = pose_sequence.permute(0, 2, 3, 1).contiguous()  # [batch_size, seq_len, num_joints, coord]\n",
    "        pose_sequence = pose_sequence.view(batch_size, seq_len, -1)  # [batch_size, seq_len, num_joints * coord]\n",
    "        \n",
    "        batch_size, coord, seq_len, num_joints = left_hand_sequence.size()\n",
    "        left_hand_sequence = left_hand_sequence.permute(0, 2, 3, 1).contiguous()  # [batch_size, seq_len, num_joints, coord]\n",
    "        left_hand_sequence = left_hand_sequence.view(batch_size, seq_len, -1)  # [batch_size, seq_len, num_joints * coord]\n",
    "        \n",
    "        batch_size, coord, seq_len, num_joints = right_hand_sequence.size()\n",
    "        right_hand_sequence = right_hand_sequence.permute(0, 2, 3, 1).contiguous()  # [batch_size, seq_len, num_joints, coord]\n",
    "        right_hand_sequence = right_hand_sequence.view(batch_size, seq_len, -1)  # [batch_size, seq_len, num_joints * coord]\n",
    "        \n",
    "        # 패딩 마스크 생성\n",
    "        face_src_key_padding_mask = create_padding_mask(face_sequence[:,:,0])\n",
    "        face_src_key_padding_mask = face_src_key_padding_mask.to(device)\n",
    "        pose_src_key_padding_mask = create_padding_mask(pose_sequence[:,:,0])\n",
    "        pose_src_key_padding_mask = pose_src_key_padding_mask.to(device)\n",
    "        left_src_key_padding_mask = create_padding_mask(left_hand_sequence[:,:,0])\n",
    "        left_src_key_padding_mask = left_src_key_padding_mask.to(device)\n",
    "        right_src_key_padding_mask = create_padding_mask(right_hand_sequence[:,:,0])\n",
    "        right_src_key_padding_mask = right_src_key_padding_mask.to(device)\n",
    "\n",
    "        outputs = model(face_sequence, pose_sequence, left_hand_sequence, right_hand_sequence, face_src_key_padding_mask, pose_src_key_padding_mask, left_src_key_padding_mask, right_src_key_padding_mask)\n",
    "        \n",
    "        \n",
    "        probabilities = torch.nn.functional.softmax(outputs, dim=1)\n",
    "        _, predicted_classes = torch.max(probabilities, 1)\n",
    "        \n",
    "        all_labels.extend(labels.cpu().numpy())\n",
    "        all_predictions.extend(predicted_classes.cpu().numpy())\n"
   ]
  },
  {
   "cell_type": "code",
   "execution_count": 15,
   "metadata": {},
   "outputs": [
    {
     "name": "stdout",
     "output_type": "stream",
     "text": [
      "Accuracy: 0.6480\n",
      "Precision: 0.5652\n",
      "Recall: 0.6480\n",
      "F1-Score: 0.5868\n"
     ]
    },
    {
     "name": "stderr",
     "output_type": "stream",
     "text": [
      "/home/yohan-ban/anaconda3/envs/project/lib/python3.10/site-packages/sklearn/metrics/_classification.py:1531: UndefinedMetricWarning: Precision is ill-defined and being set to 0.0 in labels with no predicted samples. Use `zero_division` parameter to control this behavior.\n",
      "  _warn_prf(average, modifier, f\"{metric.capitalize()} is\", len(result))\n"
     ]
    }
   ],
   "source": [
    "# 정확도 및 기타 성능 지표 계산\n",
    "accuracy = accuracy_score(all_labels, all_predictions)\n",
    "precision = precision_score(all_labels, all_predictions, average='weighted')\n",
    "recall = recall_score(all_labels, all_predictions, average='weighted')\n",
    "f1 = f1_score(all_labels, all_predictions, average='weighted')\n",
    "\n",
    "print(f'Accuracy: {accuracy:.4f}')\n",
    "print(f'Precision: {precision:.4f}')\n",
    "print(f'Recall: {recall:.4f}')\n",
    "print(f'F1-Score: {f1:.4f}')"
   ]
  },
  {
   "cell_type": "code",
   "execution_count": 16,
   "metadata": {},
   "outputs": [
    {
     "data": {
      "image/png": "[encoded data removed]",
      "text/plain": [
       "<Figure size 1000x500 with 1 Axes>"
      ]
     },
     "metadata": {},
     "output_type": "display_data"
    }
   ],
   "source": [
    "# 정확도 그래프 출력\n",
    "def plot_accuracy(accuracy_values, title=\"Accuracy over Time\"):\n",
    "    plt.figure(figsize=(10, 5))\n",
    "    plt.plot(accuracy_values, label=\"Accuracy\")\n",
    "    plt.xlabel(\"Epoch\")\n",
    "    plt.ylabel(\"Accuracy\")\n",
    "    plt.title(title)\n",
    "    plt.legend()\n",
    "    plt.show()\n",
    "plot_accuracy()"
   ]
  },
  {
   "cell_type": "code",
   "execution_count": null,
   "metadata": {},
   "outputs": [],
   "source": [
    "import seaborn as sns\n",
    "\n",
    "# 혼동 행렬 계산 및 시각화\n",
    "conf_matrix = confusion_matrix(all_labels[:20], all_predictions[:20])\n",
    "\n",
    "plt.figure(figsize=(10, 8))\n",
    "sns.heatmap(conf_matrix, annot=True, fmt=\"d\", cmap=\"Blues\")\n",
    "plt.ylabel('Actual Label')\n",
    "plt.xlabel('Predicted Label')\n",
    "plt.title('Confusion Matrix')\n",
    "plt.show()"
   ]
  },
  {
   "cell_type": "code",
   "execution_count": null,
   "metadata": {},
   "outputs": [],
   "source": []
  }
 ],
 "metadata": {
  "kernelspec": {
   "display_name": "project_hs",
   "language": "python",
   "name": "python3"
  },
  "language_info": {
   "codemirror_mode": {
    "name": "ipython",
    "version": 3
   },
   "file_extension": ".py",
   "mimetype": "text/x-python",
   "name": "python",
   "nbconvert_exporter": "python",
   "pygments_lexer": "ipython3",
   "version": "3.10.14"
  }
 },
 "nbformat": 4,
 "nbformat_minor": 2
}
